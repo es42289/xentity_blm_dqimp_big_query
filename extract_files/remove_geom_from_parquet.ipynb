{
 "cells": [
  {
   "cell_type": "markdown",
   "id": "972400bc",
   "metadata": {},
   "source": [
    "# NLSDB comes as a zipped GDB.\n",
    "## Preprocessing steps are as follows:\n",
    "1. use ogr2ogr to extract each feature class to feature_class_name.parquet\n",
    "    - ogr2ogr -f Parquet \"feature_class_name.parquet\" \"input.gdb\" feature_class_name\n",
    "2. run the below commands to remove the geometry columns from the parquet files and resave them"
   ]
  },
  {
   "cell_type": "code",
   "execution_count": null,
   "id": "a9f1fbaf",
   "metadata": {},
   "outputs": [],
   "source": [
    "import pandas as pd\n",
    "\n",
    "df = pd.read_parquet('Case_05052025_0700.parquet')\n",
    "df = df.drop(columns=['Shape_Length','Shape_Area','Shape'])\n",
    "df.to_parquet('Case_05052025_0700.parquet')"
   ]
  },
  {
   "cell_type": "code",
   "execution_count": null,
   "id": "a7513b09",
   "metadata": {},
   "outputs": [],
   "source": [
    "import pandas as pd\n",
    "\n",
    "df = pd.read_parquet('CaseLands_05052025_0720.parquet')\n",
    "df = df.drop(columns=['Shape_Length','Shape_Area','Shape'])\n",
    "df.to_parquet('CaseLands_05052025_0720.parquet')"
   ]
  }
 ],
 "metadata": {
  "kernelspec": {
   "display_name": "base",
   "language": "python",
   "name": "python3"
  },
  "language_info": {
   "codemirror_mode": {
    "name": "ipython",
    "version": 3
   },
   "file_extension": ".py",
   "mimetype": "text/x-python",
   "name": "python",
   "nbconvert_exporter": "python",
   "pygments_lexer": "ipython3",
   "version": "3.10.9"
  }
 },
 "nbformat": 4,
 "nbformat_minor": 5
}
